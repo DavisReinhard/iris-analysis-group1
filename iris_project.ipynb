{
  "cells": [
    {
      "cell_type": "markdown",
      "metadata": {
        "id": "view-in-github",
        "colab_type": "text"
      },
      "source": [
        "<a href=\"https://colab.research.google.com/github/DavisReinhard/iris-analysis-group2/blob/main/iris_project.ipynb\" target=\"_parent\"><img src=\"https://colab.research.google.com/assets/colab-badge.svg\" alt=\"Open In Colab\"/></a>"
      ]
    },
    {
      "cell_type": "code",
      "execution_count": 1,
      "id": "97644f01-e772-4389-9a04-18cf074d9e51",
      "metadata": {
        "colab": {
          "base_uri": "https://localhost:8080/"
        },
        "id": "97644f01-e772-4389-9a04-18cf074d9e51",
        "outputId": "6689a420-ec9c-480b-c6e7-3bc2171f7c2e"
      },
      "outputs": [
        {
          "output_type": "stream",
          "name": "stdout",
          "text": [
            "Hello Iris From Davis!\n"
          ]
        }
      ],
      "source": [
        "print(\"Hello Iris From Davis!\")"
      ]
    },
    {
      "cell_type": "code",
      "execution_count": 2,
      "id": "fa24fc29-50fe-4975-90b6-fa3c69545d2d",
      "metadata": {
        "colab": {
          "base_uri": "https://localhost:8080/"
        },
        "id": "fa24fc29-50fe-4975-90b6-fa3c69545d2d",
        "outputId": "aa510193-aa8a-4e34-8cff-1ba5ed7b6043"
      },
      "outputs": [
        {
          "output_type": "stream",
          "name": "stdout",
          "text": [
            "Hello Iris From Mel!\n"
          ]
        }
      ],
      "source": [
        "print(\"Hello Iris From Mel!\")"
      ]
    },
    {
      "cell_type": "code",
      "source": [
        "print(\"Hello Iris From Chiapo!\")"
      ],
      "metadata": {
        "colab": {
          "base_uri": "https://localhost:8080/"
        },
        "id": "cpi_7F8Kat87",
        "outputId": "76e6d0c1-49d7-4e48-d83e-c3a957e7b3ff"
      },
      "id": "cpi_7F8Kat87",
      "execution_count": 3,
      "outputs": [
        {
          "output_type": "stream",
          "name": "stdout",
          "text": [
            "Hello Iris From Chiapo!\n"
          ]
        }
      ]
    },
    {
      "cell_type": "code",
      "source": [
        "# Phase 2\n",
        "# Making our variables for rows, columns and dataset name\n",
        "n_rows = 150 # rows in the dataset\n",
        "n_columns = 5 # columns in the dataset\n",
        "dataset_name = \"Iris Group 2\" # name of our dataset\n",
        "\n",
        "print(f\"{dataset_name} dataset: {n_rows} rows, {n_columns} columns\") # F-string for easy insertion of our variables into output statement"
      ],
      "metadata": {
        "colab": {
          "base_uri": "https://localhost:8080/"
        },
        "id": "33j2VdJyOr_S",
        "outputId": "60b4e586-54ff-46a7-ed9e-657fa90ca676"
      },
      "id": "33j2VdJyOr_S",
      "execution_count": 4,
      "outputs": [
        {
          "output_type": "stream",
          "name": "stdout",
          "text": [
            "Iris Group 2 dataset: 150 rows, 5 columns\n"
          ]
        }
      ]
    },
    {
      "cell_type": "code",
      "source": [
        "# Creating a new variable for width of a petal\n",
        "petal_width = 0.9\n",
        "\n",
        "# Making a control structure for our output\n",
        "# Dividing the petal widths between \"thick\" and \"thin\" based on whether they are greater (>) than 1.0\n",
        "if petal_width > 1.0:\n",
        "    print(\"Thick petal\")\n",
        "else:\n",
        "    print(\"Thin petal\")  # Since petal width is not greater than 1.0, our statement prints \"Thin petal\""
      ],
      "metadata": {
        "colab": {
          "base_uri": "https://localhost:8080/"
        },
        "id": "Hh8MQ8psPpSU",
        "outputId": "cf5c3a96-0384-42ca-934b-c5c26cd250a2"
      },
      "id": "Hh8MQ8psPpSU",
      "execution_count": 5,
      "outputs": [
        {
          "output_type": "stream",
          "name": "stdout",
          "text": [
            "Thin petal\n"
          ]
        }
      ]
    },
    {
      "cell_type": "code",
      "source": [
        "# Creating a list inside of our species variable\n",
        "species = [\"Setosa\", \"Versicolor\", \"Virginica\"]\n",
        "\n",
        "for flower in species: # For each value (each string that classifies the species) in our species variable...\n",
        "    print(f\"Species: {flower}\") # Print \"Species:\" then each flower line-by-line"
      ],
      "metadata": {
        "colab": {
          "base_uri": "https://localhost:8080/"
        },
        "id": "3Gh19XAxQHic",
        "outputId": "47b5ffe0-756a-40b6-8044-170e9bca2448"
      },
      "id": "3Gh19XAxQHic",
      "execution_count": 6,
      "outputs": [
        {
          "output_type": "stream",
          "name": "stdout",
          "text": [
            "Species: Setosa\n",
            "Species: Versicolor\n",
            "Species: Virginica\n"
          ]
        }
      ]
    },
    {
      "cell_type": "code",
      "source": [
        "# Creating a function called classify_flower\n",
        "# We use our petal_width variable as our parameter\n",
        "def classify_flower(petal_width):\n",
        "    if petal_width < 0.8: # This function holds a control structure within it, similar to before\n",
        "        return \"narrow\"\n",
        "    elif petal_width < 1.5:\n",
        "        return \"medium\"\n",
        "    else: # We use an else statement to capture values that fall out of the \"narrow\" and \"medium\" range\n",
        "        return \"wide\"\n",
        "\n",
        "# Now, we can assign different values to our parameter\n",
        "# Then, our function will run through the control structure with whatever we place inside\n",
        "result = classify_flower(1.1) # Assigning our function with the parameter 1.1 to the variable called result\n",
        "print(f\"The flower has a {result} petal width.\") # Printing our F-string including the result variable"
      ],
      "metadata": {
        "colab": {
          "base_uri": "https://localhost:8080/"
        },
        "id": "ygMQ5Bf2QNyT",
        "outputId": "d4ec2b8d-bc7c-4bf8-90ac-17414d2906bc"
      },
      "id": "ygMQ5Bf2QNyT",
      "execution_count": 7,
      "outputs": [
        {
          "output_type": "stream",
          "name": "stdout",
          "text": [
            "The flower has a medium petal width.\n"
          ]
        }
      ]
    },
    {
      "cell_type": "code",
      "source": [
        "#BEGINNING OF PHASE 3"
      ],
      "metadata": {
        "id": "EhkJBsexJk3w"
      },
      "id": "EhkJBsexJk3w",
      "execution_count": null,
      "outputs": []
    },
    {
      "cell_type": "code",
      "source": [
        "from google.colab import files #Run this and select the file each time we go into Colab\n",
        "uploaded = files.upload()"
      ],
      "metadata": {
        "colab": {
          "base_uri": "https://localhost:8080/",
          "height": 73
        },
        "id": "85YcDDGk4QBg",
        "outputId": "cca6dad9-3786-4e98-c89e-b8c0ee374e93"
      },
      "id": "85YcDDGk4QBg",
      "execution_count": 8,
      "outputs": [
        {
          "output_type": "display_data",
          "data": {
            "text/plain": [
              "<IPython.core.display.HTML object>"
            ],
            "text/html": [
              "\n",
              "     <input type=\"file\" id=\"files-5abb7d2c-695b-4dd4-bd8c-b3f4b2ecc46f\" name=\"files[]\" multiple disabled\n",
              "        style=\"border:none\" />\n",
              "     <output id=\"result-5abb7d2c-695b-4dd4-bd8c-b3f4b2ecc46f\">\n",
              "      Upload widget is only available when the cell has been executed in the\n",
              "      current browser session. Please rerun this cell to enable.\n",
              "      </output>\n",
              "      <script>// Copyright 2017 Google LLC\n",
              "//\n",
              "// Licensed under the Apache License, Version 2.0 (the \"License\");\n",
              "// you may not use this file except in compliance with the License.\n",
              "// You may obtain a copy of the License at\n",
              "//\n",
              "//      http://www.apache.org/licenses/LICENSE-2.0\n",
              "//\n",
              "// Unless required by applicable law or agreed to in writing, software\n",
              "// distributed under the License is distributed on an \"AS IS\" BASIS,\n",
              "// WITHOUT WARRANTIES OR CONDITIONS OF ANY KIND, either express or implied.\n",
              "// See the License for the specific language governing permissions and\n",
              "// limitations under the License.\n",
              "\n",
              "/**\n",
              " * @fileoverview Helpers for google.colab Python module.\n",
              " */\n",
              "(function(scope) {\n",
              "function span(text, styleAttributes = {}) {\n",
              "  const element = document.createElement('span');\n",
              "  element.textContent = text;\n",
              "  for (const key of Object.keys(styleAttributes)) {\n",
              "    element.style[key] = styleAttributes[key];\n",
              "  }\n",
              "  return element;\n",
              "}\n",
              "\n",
              "// Max number of bytes which will be uploaded at a time.\n",
              "const MAX_PAYLOAD_SIZE = 100 * 1024;\n",
              "\n",
              "function _uploadFiles(inputId, outputId) {\n",
              "  const steps = uploadFilesStep(inputId, outputId);\n",
              "  const outputElement = document.getElementById(outputId);\n",
              "  // Cache steps on the outputElement to make it available for the next call\n",
              "  // to uploadFilesContinue from Python.\n",
              "  outputElement.steps = steps;\n",
              "\n",
              "  return _uploadFilesContinue(outputId);\n",
              "}\n",
              "\n",
              "// This is roughly an async generator (not supported in the browser yet),\n",
              "// where there are multiple asynchronous steps and the Python side is going\n",
              "// to poll for completion of each step.\n",
              "// This uses a Promise to block the python side on completion of each step,\n",
              "// then passes the result of the previous step as the input to the next step.\n",
              "function _uploadFilesContinue(outputId) {\n",
              "  const outputElement = document.getElementById(outputId);\n",
              "  const steps = outputElement.steps;\n",
              "\n",
              "  const next = steps.next(outputElement.lastPromiseValue);\n",
              "  return Promise.resolve(next.value.promise).then((value) => {\n",
              "    // Cache the last promise value to make it available to the next\n",
              "    // step of the generator.\n",
              "    outputElement.lastPromiseValue = value;\n",
              "    return next.value.response;\n",
              "  });\n",
              "}\n",
              "\n",
              "/**\n",
              " * Generator function which is called between each async step of the upload\n",
              " * process.\n",
              " * @param {string} inputId Element ID of the input file picker element.\n",
              " * @param {string} outputId Element ID of the output display.\n",
              " * @return {!Iterable<!Object>} Iterable of next steps.\n",
              " */\n",
              "function* uploadFilesStep(inputId, outputId) {\n",
              "  const inputElement = document.getElementById(inputId);\n",
              "  inputElement.disabled = false;\n",
              "\n",
              "  const outputElement = document.getElementById(outputId);\n",
              "  outputElement.innerHTML = '';\n",
              "\n",
              "  const pickedPromise = new Promise((resolve) => {\n",
              "    inputElement.addEventListener('change', (e) => {\n",
              "      resolve(e.target.files);\n",
              "    });\n",
              "  });\n",
              "\n",
              "  const cancel = document.createElement('button');\n",
              "  inputElement.parentElement.appendChild(cancel);\n",
              "  cancel.textContent = 'Cancel upload';\n",
              "  const cancelPromise = new Promise((resolve) => {\n",
              "    cancel.onclick = () => {\n",
              "      resolve(null);\n",
              "    };\n",
              "  });\n",
              "\n",
              "  // Wait for the user to pick the files.\n",
              "  const files = yield {\n",
              "    promise: Promise.race([pickedPromise, cancelPromise]),\n",
              "    response: {\n",
              "      action: 'starting',\n",
              "    }\n",
              "  };\n",
              "\n",
              "  cancel.remove();\n",
              "\n",
              "  // Disable the input element since further picks are not allowed.\n",
              "  inputElement.disabled = true;\n",
              "\n",
              "  if (!files) {\n",
              "    return {\n",
              "      response: {\n",
              "        action: 'complete',\n",
              "      }\n",
              "    };\n",
              "  }\n",
              "\n",
              "  for (const file of files) {\n",
              "    const li = document.createElement('li');\n",
              "    li.append(span(file.name, {fontWeight: 'bold'}));\n",
              "    li.append(span(\n",
              "        `(${file.type || 'n/a'}) - ${file.size} bytes, ` +\n",
              "        `last modified: ${\n",
              "            file.lastModifiedDate ? file.lastModifiedDate.toLocaleDateString() :\n",
              "                                    'n/a'} - `));\n",
              "    const percent = span('0% done');\n",
              "    li.appendChild(percent);\n",
              "\n",
              "    outputElement.appendChild(li);\n",
              "\n",
              "    const fileDataPromise = new Promise((resolve) => {\n",
              "      const reader = new FileReader();\n",
              "      reader.onload = (e) => {\n",
              "        resolve(e.target.result);\n",
              "      };\n",
              "      reader.readAsArrayBuffer(file);\n",
              "    });\n",
              "    // Wait for the data to be ready.\n",
              "    let fileData = yield {\n",
              "      promise: fileDataPromise,\n",
              "      response: {\n",
              "        action: 'continue',\n",
              "      }\n",
              "    };\n",
              "\n",
              "    // Use a chunked sending to avoid message size limits. See b/62115660.\n",
              "    let position = 0;\n",
              "    do {\n",
              "      const length = Math.min(fileData.byteLength - position, MAX_PAYLOAD_SIZE);\n",
              "      const chunk = new Uint8Array(fileData, position, length);\n",
              "      position += length;\n",
              "\n",
              "      const base64 = btoa(String.fromCharCode.apply(null, chunk));\n",
              "      yield {\n",
              "        response: {\n",
              "          action: 'append',\n",
              "          file: file.name,\n",
              "          data: base64,\n",
              "        },\n",
              "      };\n",
              "\n",
              "      let percentDone = fileData.byteLength === 0 ?\n",
              "          100 :\n",
              "          Math.round((position / fileData.byteLength) * 100);\n",
              "      percent.textContent = `${percentDone}% done`;\n",
              "\n",
              "    } while (position < fileData.byteLength);\n",
              "  }\n",
              "\n",
              "  // All done.\n",
              "  yield {\n",
              "    response: {\n",
              "      action: 'complete',\n",
              "    }\n",
              "  };\n",
              "}\n",
              "\n",
              "scope.google = scope.google || {};\n",
              "scope.google.colab = scope.google.colab || {};\n",
              "scope.google.colab._files = {\n",
              "  _uploadFiles,\n",
              "  _uploadFilesContinue,\n",
              "};\n",
              "})(self);\n",
              "</script> "
            ]
          },
          "metadata": {}
        },
        {
          "output_type": "stream",
          "name": "stdout",
          "text": [
            "Saving iris.zip to iris.zip\n"
          ]
        }
      ]
    },
    {
      "cell_type": "code",
      "source": [
        "!ls /content"
      ],
      "metadata": {
        "colab": {
          "base_uri": "https://localhost:8080/"
        },
        "id": "7wXrQ9N55Avk",
        "outputId": "64ef380a-81b9-4b24-d77b-7d715d349637"
      },
      "id": "7wXrQ9N55Avk",
      "execution_count": 9,
      "outputs": [
        {
          "output_type": "stream",
          "name": "stdout",
          "text": [
            "iris.zip  sample_data\n"
          ]
        }
      ]
    },
    {
      "cell_type": "code",
      "source": [
        "!unzip /content/iris.zip"
      ],
      "metadata": {
        "colab": {
          "base_uri": "https://localhost:8080/"
        },
        "id": "BhLv_OWF5IR7",
        "outputId": "f2f91082-de57-41c6-e583-e2f1413d8f88"
      },
      "id": "BhLv_OWF5IR7",
      "execution_count": 10,
      "outputs": [
        {
          "output_type": "stream",
          "name": "stdout",
          "text": [
            "Archive:  /content/iris.zip\n",
            "  inflating: Index                   \n",
            "  inflating: bezdekIris.data         \n",
            "  inflating: iris.data               \n",
            "  inflating: iris.names              \n"
          ]
        }
      ]
    },
    {
      "cell_type": "code",
      "source": [
        "import csv #Import the csv module so we can read CSV (comma-separated) files\n",
        "\n",
        "with open(\"iris.data\", newline=\"\") as csvfile: #Open the iris dataset and read its rows into a list\n",
        "    reader = csv.reader(csvfile)\n",
        "    rows = list(reader)\n",
        "\n",
        "print(\"Total rows:\", len(rows)) #Print total rows and first 5 rows to preview data (optional step but it lets us know the data is there without 150 rows)\n",
        "print(\"First 5 rows:\")\n",
        "for row in rows[:5]:\n",
        "    print(row)"
      ],
      "metadata": {
        "colab": {
          "base_uri": "https://localhost:8080/"
        },
        "id": "HAwLp3axJx4l",
        "outputId": "ee33d61f-eab8-4931-d149-888737c00e79"
      },
      "id": "HAwLp3axJx4l",
      "execution_count": 11,
      "outputs": [
        {
          "output_type": "stream",
          "name": "stdout",
          "text": [
            "Total rows: 151\n",
            "First 5 rows:\n",
            "['5.1', '3.5', '1.4', '0.2', 'Iris-setosa']\n",
            "['4.9', '3.0', '1.4', '0.2', 'Iris-setosa']\n",
            "['4.7', '3.2', '1.3', '0.2', 'Iris-setosa']\n",
            "['4.6', '3.1', '1.5', '0.2', 'Iris-setosa']\n",
            "['5.0', '3.6', '1.4', '0.2', 'Iris-setosa']\n"
          ]
        }
      ]
    },
    {
      "cell_type": "code",
      "source": [
        "with open(\"summary.txt\", \"w\") as f: #We're just creating a simple summary text file\n",
        "    f.write(\"Iris Dataset Summary\\n\")\n",
        "    f.write(\"--------------------\\n\")\n",
        "    f.write(f\"Total rows: {len(rows)}\\n\")"
      ],
      "metadata": {
        "id": "If1uQgV9Tm8e"
      },
      "id": "If1uQgV9Tm8e",
      "execution_count": 12,
      "outputs": []
    },
    {
      "cell_type": "code",
      "source": [
        "!cat summary.txt #lets us verify that this exists"
      ],
      "metadata": {
        "colab": {
          "base_uri": "https://localhost:8080/"
        },
        "id": "8xLUw5t6UNd3",
        "outputId": "2ad8465b-e1b3-403a-a6bc-ec2d49a627ae"
      },
      "id": "8xLUw5t6UNd3",
      "execution_count": 13,
      "outputs": [
        {
          "output_type": "stream",
          "name": "stdout",
          "text": [
            "Iris Dataset Summary\n",
            "--------------------\n",
            "Total rows: 151\n"
          ]
        }
      ]
    },
    {
      "cell_type": "code",
      "source": [
        "#Get sepal length values (first number in each row)\n",
        "# We use float() to convert text numbers into numeric values for calculations\n",
        "sepal_lengths = [float(row[0]) for row in rows if len(row) == 5]\n",
        "\n",
        "#Calculate min, max, and average for length of sepals\n",
        "min_length = min(sepal_lengths)\n",
        "max_length = max(sepal_lengths)\n",
        "avg_length = sum(sepal_lengths) / len(sepal_lengths)\n",
        "\n",
        "#Write results to summary.txt\n",
        "with open(\"summary.txt\", \"a\") as f:  #\"a\" means append to the file instead of overwriting\n",
        "    f.write(f\"Min sepal length: {min_length}\\n\")\n",
        "    f.write(f\"Max sepal length: {max_length}\\n\")\n",
        "    f.write(f\"Avg sepal length: {avg_length:.2f}\\n\")"
      ],
      "metadata": {
        "id": "mZREDLB4W1kS"
      },
      "id": "mZREDLB4W1kS",
      "execution_count": 14,
      "outputs": []
    },
    {
      "cell_type": "code",
      "source": [
        "!cat summary.txt # Check the file again to see the new lines we added"
      ],
      "metadata": {
        "colab": {
          "base_uri": "https://localhost:8080/"
        },
        "id": "p_mBOqsoX_kS",
        "outputId": "7bd7f747-4d2c-4263-9ff2-c066e5f93f22"
      },
      "id": "p_mBOqsoX_kS",
      "execution_count": 15,
      "outputs": [
        {
          "output_type": "stream",
          "name": "stdout",
          "text": [
            "Iris Dataset Summary\n",
            "--------------------\n",
            "Total rows: 151\n",
            "Min sepal length: 4.3\n",
            "Max sepal length: 7.9\n",
            "Avg sepal length: 5.84\n"
          ]
        }
      ]
    },
    {
      "cell_type": "code",
      "source": [
        "# Get sepal width values (the second number in each row)\n",
        "sepal_widths = [float(row[1]) for row in rows if len(row) == 5]\n",
        "\n",
        "# Calculate min, max, and average for sepal width\n",
        "min_width = min(sepal_widths)\n",
        "max_width = max(sepal_widths)\n",
        "avg_width = sum(sepal_widths) / len(sepal_widths)\n",
        "\n",
        "# Add these results to summary.txt as well\n",
        "with open(\"summary.txt\", \"a\") as f:\n",
        "    f.write(f\"Min sepal width: {min_width}\\n\")\n",
        "    f.write(f\"Max sepal width: {max_width}\\n\")\n",
        "    f.write(f\"Avg sepal width: {avg_width:.2f}\\n\")"
      ],
      "metadata": {
        "id": "naWL89CiYTt4"
      },
      "id": "naWL89CiYTt4",
      "execution_count": 16,
      "outputs": []
    },
    {
      "cell_type": "code",
      "source": [
        "!cat summary.txt # Display the updated summary file to verify"
      ],
      "metadata": {
        "colab": {
          "base_uri": "https://localhost:8080/"
        },
        "id": "iM9clLXqYV3X",
        "outputId": "a7e583f2-c2cb-470b-90c9-ce759c03da53"
      },
      "id": "iM9clLXqYV3X",
      "execution_count": 17,
      "outputs": [
        {
          "output_type": "stream",
          "name": "stdout",
          "text": [
            "Iris Dataset Summary\n",
            "--------------------\n",
            "Total rows: 151\n",
            "Min sepal length: 4.3\n",
            "Max sepal length: 7.9\n",
            "Avg sepal length: 5.84\n",
            "Min sepal width: 2.0\n",
            "Max sepal width: 4.4\n",
            "Avg sepal width: 3.05\n"
          ]
        }
      ]
    },
    {
      "cell_type": "code",
      "source": [
        "# Get petal length values (the third number in each row)\n",
        "petal_lengths = [float(row[2]) for row in rows if len(row) == 5]\n",
        "\n",
        "# Compute the min, max, and average petal length\n",
        "min_petal_length = min(petal_lengths)\n",
        "max_petal_length = max(petal_lengths)\n",
        "avg_petal_length = sum(petal_lengths) / len(petal_lengths)\n",
        "\n",
        "# Append petal length results to the summary file\n",
        "with open(\"summary.txt\", \"a\") as f:\n",
        "    f.write(f\"Min petal length: {min_petal_length}\\n\")\n",
        "    f.write(f\"Max petal length: {max_petal_length}\\n\")\n",
        "    f.write(f\"Avg petal length: {avg_petal_length:.2f}\\n\")"
      ],
      "metadata": {
        "id": "WUVROzKXYz7A"
      },
      "id": "WUVROzKXYz7A",
      "execution_count": 18,
      "outputs": []
    },
    {
      "cell_type": "code",
      "source": [
        "!cat summary.txt # Check the file again to confirm changes"
      ],
      "metadata": {
        "colab": {
          "base_uri": "https://localhost:8080/"
        },
        "id": "OBwjBXShY11g",
        "outputId": "8ebb8df6-e85f-437b-c452-0ec9e8b2db57"
      },
      "id": "OBwjBXShY11g",
      "execution_count": 19,
      "outputs": [
        {
          "output_type": "stream",
          "name": "stdout",
          "text": [
            "Iris Dataset Summary\n",
            "--------------------\n",
            "Total rows: 151\n",
            "Min sepal length: 4.3\n",
            "Max sepal length: 7.9\n",
            "Avg sepal length: 5.84\n",
            "Min sepal width: 2.0\n",
            "Max sepal width: 4.4\n",
            "Avg sepal width: 3.05\n",
            "Min petal length: 1.0\n",
            "Max petal length: 6.9\n",
            "Avg petal length: 3.76\n"
          ]
        }
      ]
    },
    {
      "cell_type": "code",
      "source": [
        "# Get petal width values (the fourth number in each row)\n",
        "petal_widths = [float(row[3]) for row in rows if len(row) == 5]\n",
        "\n",
        "# Compute min, max, and average for petal width\n",
        "min_petal_width = min(petal_widths)\n",
        "max_petal_width = max(petal_widths)\n",
        "avg_petal_width = sum(petal_widths) / len(petal_widths)\n",
        "\n",
        "# Add petal width results to the summary file\n",
        "with open(\"summary.txt\", \"a\") as f:\n",
        "    f.write(f\"Min petal width: {min_petal_width}\\n\")\n",
        "    f.write(f\"Max petal width: {max_petal_width}\\n\")\n",
        "    f.write(f\"Avg petal width: {avg_petal_width:.2f}\\n\")"
      ],
      "metadata": {
        "id": "jxJG4ve2Y5qa"
      },
      "id": "jxJG4ve2Y5qa",
      "execution_count": 20,
      "outputs": []
    },
    {
      "cell_type": "code",
      "source": [
        "!cat summary.txt # Display the final version of the summary file with all measurements"
      ],
      "metadata": {
        "colab": {
          "base_uri": "https://localhost:8080/"
        },
        "id": "PwLgghnNY8I_",
        "outputId": "611b4a93-284e-40b1-a59b-4ed12c41cbfd"
      },
      "id": "PwLgghnNY8I_",
      "execution_count": 21,
      "outputs": [
        {
          "output_type": "stream",
          "name": "stdout",
          "text": [
            "Iris Dataset Summary\n",
            "--------------------\n",
            "Total rows: 151\n",
            "Min sepal length: 4.3\n",
            "Max sepal length: 7.9\n",
            "Avg sepal length: 5.84\n",
            "Min sepal width: 2.0\n",
            "Max sepal width: 4.4\n",
            "Avg sepal width: 3.05\n",
            "Min petal length: 1.0\n",
            "Max petal length: 6.9\n",
            "Avg petal length: 3.76\n",
            "Min petal width: 0.1\n",
            "Max petal width: 2.5\n",
            "Avg petal width: 1.20\n"
          ]
        }
      ]
    },
    {
      "cell_type": "code",
      "source": [
        "import pandas as pd  #importing the pandas library and calling id \"pd\"\n",
        "\n",
        "#Read the iris data file into a pandas DataFrame(a table-like structure)\n",
        "df = pd.read_csv(\"iris.data\", header=None)\n",
        "\n",
        "#Add column names to make the DataFrame easier to read\n",
        "df.columns = [\"sepal_length\", \"sepal_width\", \"petal_length\", \"petal_width\", \"species\"]\n",
        "\n",
        "#Show the first few rows to confirm it worked\n",
        "df.head()"
      ],
      "metadata": {
        "colab": {
          "base_uri": "https://localhost:8080/",
          "height": 206
        },
        "id": "ITRC4lumZUsd",
        "outputId": "a93f169a-507b-412c-9d6c-445557c1e46e"
      },
      "id": "ITRC4lumZUsd",
      "execution_count": 22,
      "outputs": [
        {
          "output_type": "execute_result",
          "data": {
            "text/plain": [
              "   sepal_length  sepal_width  petal_length  petal_width      species\n",
              "0           5.1          3.5           1.4          0.2  Iris-setosa\n",
              "1           4.9          3.0           1.4          0.2  Iris-setosa\n",
              "2           4.7          3.2           1.3          0.2  Iris-setosa\n",
              "3           4.6          3.1           1.5          0.2  Iris-setosa\n",
              "4           5.0          3.6           1.4          0.2  Iris-setosa"
            ],
            "text/html": [
              "\n",
              "  <div id=\"df-75ca51e2-8c12-492a-aa66-acd68a40c40a\" class=\"colab-df-container\">\n",
              "    <div>\n",
              "<style scoped>\n",
              "    .dataframe tbody tr th:only-of-type {\n",
              "        vertical-align: middle;\n",
              "    }\n",
              "\n",
              "    .dataframe tbody tr th {\n",
              "        vertical-align: top;\n",
              "    }\n",
              "\n",
              "    .dataframe thead th {\n",
              "        text-align: right;\n",
              "    }\n",
              "</style>\n",
              "<table border=\"1\" class=\"dataframe\">\n",
              "  <thead>\n",
              "    <tr style=\"text-align: right;\">\n",
              "      <th></th>\n",
              "      <th>sepal_length</th>\n",
              "      <th>sepal_width</th>\n",
              "      <th>petal_length</th>\n",
              "      <th>petal_width</th>\n",
              "      <th>species</th>\n",
              "    </tr>\n",
              "  </thead>\n",
              "  <tbody>\n",
              "    <tr>\n",
              "      <th>0</th>\n",
              "      <td>5.1</td>\n",
              "      <td>3.5</td>\n",
              "      <td>1.4</td>\n",
              "      <td>0.2</td>\n",
              "      <td>Iris-setosa</td>\n",
              "    </tr>\n",
              "    <tr>\n",
              "      <th>1</th>\n",
              "      <td>4.9</td>\n",
              "      <td>3.0</td>\n",
              "      <td>1.4</td>\n",
              "      <td>0.2</td>\n",
              "      <td>Iris-setosa</td>\n",
              "    </tr>\n",
              "    <tr>\n",
              "      <th>2</th>\n",
              "      <td>4.7</td>\n",
              "      <td>3.2</td>\n",
              "      <td>1.3</td>\n",
              "      <td>0.2</td>\n",
              "      <td>Iris-setosa</td>\n",
              "    </tr>\n",
              "    <tr>\n",
              "      <th>3</th>\n",
              "      <td>4.6</td>\n",
              "      <td>3.1</td>\n",
              "      <td>1.5</td>\n",
              "      <td>0.2</td>\n",
              "      <td>Iris-setosa</td>\n",
              "    </tr>\n",
              "    <tr>\n",
              "      <th>4</th>\n",
              "      <td>5.0</td>\n",
              "      <td>3.6</td>\n",
              "      <td>1.4</td>\n",
              "      <td>0.2</td>\n",
              "      <td>Iris-setosa</td>\n",
              "    </tr>\n",
              "  </tbody>\n",
              "</table>\n",
              "</div>\n",
              "    <div class=\"colab-df-buttons\">\n",
              "\n",
              "  <div class=\"colab-df-container\">\n",
              "    <button class=\"colab-df-convert\" onclick=\"convertToInteractive('df-75ca51e2-8c12-492a-aa66-acd68a40c40a')\"\n",
              "            title=\"Convert this dataframe to an interactive table.\"\n",
              "            style=\"display:none;\">\n",
              "\n",
              "  <svg xmlns=\"http://www.w3.org/2000/svg\" height=\"24px\" viewBox=\"0 -960 960 960\">\n",
              "    <path d=\"M120-120v-720h720v720H120Zm60-500h600v-160H180v160Zm220 220h160v-160H400v160Zm0 220h160v-160H400v160ZM180-400h160v-160H180v160Zm440 0h160v-160H620v160ZM180-180h160v-160H180v160Zm440 0h160v-160H620v160Z\"/>\n",
              "  </svg>\n",
              "    </button>\n",
              "\n",
              "  <style>\n",
              "    .colab-df-container {\n",
              "      display:flex;\n",
              "      gap: 12px;\n",
              "    }\n",
              "\n",
              "    .colab-df-convert {\n",
              "      background-color: #E8F0FE;\n",
              "      border: none;\n",
              "      border-radius: 50%;\n",
              "      cursor: pointer;\n",
              "      display: none;\n",
              "      fill: #1967D2;\n",
              "      height: 32px;\n",
              "      padding: 0 0 0 0;\n",
              "      width: 32px;\n",
              "    }\n",
              "\n",
              "    .colab-df-convert:hover {\n",
              "      background-color: #E2EBFA;\n",
              "      box-shadow: 0px 1px 2px rgba(60, 64, 67, 0.3), 0px 1px 3px 1px rgba(60, 64, 67, 0.15);\n",
              "      fill: #174EA6;\n",
              "    }\n",
              "\n",
              "    .colab-df-buttons div {\n",
              "      margin-bottom: 4px;\n",
              "    }\n",
              "\n",
              "    [theme=dark] .colab-df-convert {\n",
              "      background-color: #3B4455;\n",
              "      fill: #D2E3FC;\n",
              "    }\n",
              "\n",
              "    [theme=dark] .colab-df-convert:hover {\n",
              "      background-color: #434B5C;\n",
              "      box-shadow: 0px 1px 3px 1px rgba(0, 0, 0, 0.15);\n",
              "      filter: drop-shadow(0px 1px 2px rgba(0, 0, 0, 0.3));\n",
              "      fill: #FFFFFF;\n",
              "    }\n",
              "  </style>\n",
              "\n",
              "    <script>\n",
              "      const buttonEl =\n",
              "        document.querySelector('#df-75ca51e2-8c12-492a-aa66-acd68a40c40a button.colab-df-convert');\n",
              "      buttonEl.style.display =\n",
              "        google.colab.kernel.accessAllowed ? 'block' : 'none';\n",
              "\n",
              "      async function convertToInteractive(key) {\n",
              "        const element = document.querySelector('#df-75ca51e2-8c12-492a-aa66-acd68a40c40a');\n",
              "        const dataTable =\n",
              "          await google.colab.kernel.invokeFunction('convertToInteractive',\n",
              "                                                    [key], {});\n",
              "        if (!dataTable) return;\n",
              "\n",
              "        const docLinkHtml = 'Like what you see? Visit the ' +\n",
              "          '<a target=\"_blank\" href=https://colab.research.google.com/notebooks/data_table.ipynb>data table notebook</a>'\n",
              "          + ' to learn more about interactive tables.';\n",
              "        element.innerHTML = '';\n",
              "        dataTable['output_type'] = 'display_data';\n",
              "        await google.colab.output.renderOutput(dataTable, element);\n",
              "        const docLink = document.createElement('div');\n",
              "        docLink.innerHTML = docLinkHtml;\n",
              "        element.appendChild(docLink);\n",
              "      }\n",
              "    </script>\n",
              "  </div>\n",
              "\n",
              "\n",
              "    <div id=\"df-9a64c5d3-3853-4028-853c-35e952c1d776\">\n",
              "      <button class=\"colab-df-quickchart\" onclick=\"quickchart('df-9a64c5d3-3853-4028-853c-35e952c1d776')\"\n",
              "                title=\"Suggest charts\"\n",
              "                style=\"display:none;\">\n",
              "\n",
              "<svg xmlns=\"http://www.w3.org/2000/svg\" height=\"24px\"viewBox=\"0 0 24 24\"\n",
              "     width=\"24px\">\n",
              "    <g>\n",
              "        <path d=\"M19 3H5c-1.1 0-2 .9-2 2v14c0 1.1.9 2 2 2h14c1.1 0 2-.9 2-2V5c0-1.1-.9-2-2-2zM9 17H7v-7h2v7zm4 0h-2V7h2v10zm4 0h-2v-4h2v4z\"/>\n",
              "    </g>\n",
              "</svg>\n",
              "      </button>\n",
              "\n",
              "<style>\n",
              "  .colab-df-quickchart {\n",
              "      --bg-color: #E8F0FE;\n",
              "      --fill-color: #1967D2;\n",
              "      --hover-bg-color: #E2EBFA;\n",
              "      --hover-fill-color: #174EA6;\n",
              "      --disabled-fill-color: #AAA;\n",
              "      --disabled-bg-color: #DDD;\n",
              "  }\n",
              "\n",
              "  [theme=dark] .colab-df-quickchart {\n",
              "      --bg-color: #3B4455;\n",
              "      --fill-color: #D2E3FC;\n",
              "      --hover-bg-color: #434B5C;\n",
              "      --hover-fill-color: #FFFFFF;\n",
              "      --disabled-bg-color: #3B4455;\n",
              "      --disabled-fill-color: #666;\n",
              "  }\n",
              "\n",
              "  .colab-df-quickchart {\n",
              "    background-color: var(--bg-color);\n",
              "    border: none;\n",
              "    border-radius: 50%;\n",
              "    cursor: pointer;\n",
              "    display: none;\n",
              "    fill: var(--fill-color);\n",
              "    height: 32px;\n",
              "    padding: 0;\n",
              "    width: 32px;\n",
              "  }\n",
              "\n",
              "  .colab-df-quickchart:hover {\n",
              "    background-color: var(--hover-bg-color);\n",
              "    box-shadow: 0 1px 2px rgba(60, 64, 67, 0.3), 0 1px 3px 1px rgba(60, 64, 67, 0.15);\n",
              "    fill: var(--button-hover-fill-color);\n",
              "  }\n",
              "\n",
              "  .colab-df-quickchart-complete:disabled,\n",
              "  .colab-df-quickchart-complete:disabled:hover {\n",
              "    background-color: var(--disabled-bg-color);\n",
              "    fill: var(--disabled-fill-color);\n",
              "    box-shadow: none;\n",
              "  }\n",
              "\n",
              "  .colab-df-spinner {\n",
              "    border: 2px solid var(--fill-color);\n",
              "    border-color: transparent;\n",
              "    border-bottom-color: var(--fill-color);\n",
              "    animation:\n",
              "      spin 1s steps(1) infinite;\n",
              "  }\n",
              "\n",
              "  @keyframes spin {\n",
              "    0% {\n",
              "      border-color: transparent;\n",
              "      border-bottom-color: var(--fill-color);\n",
              "      border-left-color: var(--fill-color);\n",
              "    }\n",
              "    20% {\n",
              "      border-color: transparent;\n",
              "      border-left-color: var(--fill-color);\n",
              "      border-top-color: var(--fill-color);\n",
              "    }\n",
              "    30% {\n",
              "      border-color: transparent;\n",
              "      border-left-color: var(--fill-color);\n",
              "      border-top-color: var(--fill-color);\n",
              "      border-right-color: var(--fill-color);\n",
              "    }\n",
              "    40% {\n",
              "      border-color: transparent;\n",
              "      border-right-color: var(--fill-color);\n",
              "      border-top-color: var(--fill-color);\n",
              "    }\n",
              "    60% {\n",
              "      border-color: transparent;\n",
              "      border-right-color: var(--fill-color);\n",
              "    }\n",
              "    80% {\n",
              "      border-color: transparent;\n",
              "      border-right-color: var(--fill-color);\n",
              "      border-bottom-color: var(--fill-color);\n",
              "    }\n",
              "    90% {\n",
              "      border-color: transparent;\n",
              "      border-bottom-color: var(--fill-color);\n",
              "    }\n",
              "  }\n",
              "</style>\n",
              "\n",
              "      <script>\n",
              "        async function quickchart(key) {\n",
              "          const quickchartButtonEl =\n",
              "            document.querySelector('#' + key + ' button');\n",
              "          quickchartButtonEl.disabled = true;  // To prevent multiple clicks.\n",
              "          quickchartButtonEl.classList.add('colab-df-spinner');\n",
              "          try {\n",
              "            const charts = await google.colab.kernel.invokeFunction(\n",
              "                'suggestCharts', [key], {});\n",
              "          } catch (error) {\n",
              "            console.error('Error during call to suggestCharts:', error);\n",
              "          }\n",
              "          quickchartButtonEl.classList.remove('colab-df-spinner');\n",
              "          quickchartButtonEl.classList.add('colab-df-quickchart-complete');\n",
              "        }\n",
              "        (() => {\n",
              "          let quickchartButtonEl =\n",
              "            document.querySelector('#df-9a64c5d3-3853-4028-853c-35e952c1d776 button');\n",
              "          quickchartButtonEl.style.display =\n",
              "            google.colab.kernel.accessAllowed ? 'block' : 'none';\n",
              "        })();\n",
              "      </script>\n",
              "    </div>\n",
              "\n",
              "    </div>\n",
              "  </div>\n"
            ],
            "application/vnd.google.colaboratory.intrinsic+json": {
              "type": "dataframe",
              "variable_name": "df",
              "summary": "{\n  \"name\": \"df\",\n  \"rows\": 150,\n  \"fields\": [\n    {\n      \"column\": \"sepal_length\",\n      \"properties\": {\n        \"dtype\": \"number\",\n        \"std\": 0.8280661279778629,\n        \"min\": 4.3,\n        \"max\": 7.9,\n        \"num_unique_values\": 35,\n        \"samples\": [\n          6.2,\n          4.5,\n          5.6\n        ],\n        \"semantic_type\": \"\",\n        \"description\": \"\"\n      }\n    },\n    {\n      \"column\": \"sepal_width\",\n      \"properties\": {\n        \"dtype\": \"number\",\n        \"std\": 0.4335943113621737,\n        \"min\": 2.0,\n        \"max\": 4.4,\n        \"num_unique_values\": 23,\n        \"samples\": [\n          2.3,\n          4.0,\n          3.5\n        ],\n        \"semantic_type\": \"\",\n        \"description\": \"\"\n      }\n    },\n    {\n      \"column\": \"petal_length\",\n      \"properties\": {\n        \"dtype\": \"number\",\n        \"std\": 1.7644204199522617,\n        \"min\": 1.0,\n        \"max\": 6.9,\n        \"num_unique_values\": 43,\n        \"samples\": [\n          6.7,\n          3.8,\n          3.7\n        ],\n        \"semantic_type\": \"\",\n        \"description\": \"\"\n      }\n    },\n    {\n      \"column\": \"petal_width\",\n      \"properties\": {\n        \"dtype\": \"number\",\n        \"std\": 0.7631607417008414,\n        \"min\": 0.1,\n        \"max\": 2.5,\n        \"num_unique_values\": 22,\n        \"samples\": [\n          0.2,\n          1.2,\n          1.3\n        ],\n        \"semantic_type\": \"\",\n        \"description\": \"\"\n      }\n    },\n    {\n      \"column\": \"species\",\n      \"properties\": {\n        \"dtype\": \"category\",\n        \"num_unique_values\": 3,\n        \"samples\": [\n          \"Iris-setosa\",\n          \"Iris-versicolor\",\n          \"Iris-virginica\"\n        ],\n        \"semantic_type\": \"\",\n        \"description\": \"\"\n      }\n    }\n  ]\n}"
            }
          },
          "metadata": {},
          "execution_count": 22
        }
      ]
    },
    {
      "cell_type": "code",
      "source": [
        "#Now, we are simply checking for missing values\n",
        "# .isnull() creates a True/False table\n",
        "# .sum() counts how many True values are found in each column\n",
        "print(\"Missing values:\")\n",
        "print(df.isnull().sum())\n",
        "\n",
        "# Check column names and data types\n",
        "# .info() tells us how many non-null values each column has,\n",
        "# what data type each column is (float, object, etc.),\n",
        "# and how many total entries exist\n",
        "print(\"\\nColumn info:\")\n",
        "print(df.info())"
      ],
      "metadata": {
        "colab": {
          "base_uri": "https://localhost:8080/"
        },
        "id": "WsG7KYIubWlv",
        "outputId": "31fb8d9c-4d02-4a0b-bd21-ed89a66a4bfd"
      },
      "id": "WsG7KYIubWlv",
      "execution_count": 23,
      "outputs": [
        {
          "output_type": "stream",
          "name": "stdout",
          "text": [
            "Missing values:\n",
            "sepal_length    0\n",
            "sepal_width     0\n",
            "petal_length    0\n",
            "petal_width     0\n",
            "species         0\n",
            "dtype: int64\n",
            "\n",
            "Column info:\n",
            "<class 'pandas.core.frame.DataFrame'>\n",
            "RangeIndex: 150 entries, 0 to 149\n",
            "Data columns (total 5 columns):\n",
            " #   Column        Non-Null Count  Dtype  \n",
            "---  ------        --------------  -----  \n",
            " 0   sepal_length  150 non-null    float64\n",
            " 1   sepal_width   150 non-null    float64\n",
            " 2   petal_length  150 non-null    float64\n",
            " 3   petal_width   150 non-null    float64\n",
            " 4   species       150 non-null    object \n",
            "dtypes: float64(4), object(1)\n",
            "memory usage: 6.0+ KB\n",
            "None\n"
          ]
        }
      ]
    },
    {
      "cell_type": "code",
      "source": [
        "# Save the cleaned version of the dataset as a new CSV file\n",
        "# index=False means we don’t include the extra index numbers when saving\n",
        "df.to_csv(\"iris_cleaned.csv\", index=False)"
      ],
      "metadata": {
        "id": "ye6PFFkKd6jP"
      },
      "id": "ye6PFFkKd6jP",
      "execution_count": 24,
      "outputs": []
    },
    {
      "cell_type": "code",
      "source": [
        "!ls #Just checking to make sure we have it"
      ],
      "metadata": {
        "id": "UkgmBUxOeFwY",
        "outputId": "9aa504a6-e3a3-428a-e180-fb09d9b21db6",
        "colab": {
          "base_uri": "https://localhost:8080/"
        }
      },
      "id": "UkgmBUxOeFwY",
      "execution_count": 25,
      "outputs": [
        {
          "output_type": "stream",
          "name": "stdout",
          "text": [
            "bezdekIris.data  iris_cleaned.csv  iris.names  sample_data\n",
            "Index\t\t iris.data\t   iris.zip    summary.txt\n"
          ]
        }
      ]
    }
  ],
  "metadata": {
    "kernelspec": {
      "display_name": "Python [conda env:base] *",
      "language": "python",
      "name": "conda-base-py"
    },
    "language_info": {
      "codemirror_mode": {
        "name": "ipython",
        "version": 3
      },
      "file_extension": ".py",
      "mimetype": "text/x-python",
      "name": "python",
      "nbconvert_exporter": "python",
      "pygments_lexer": "ipython3",
      "version": "3.13.5"
    },
    "colab": {
      "provenance": [],
      "include_colab_link": true
    }
  },
  "nbformat": 4,
  "nbformat_minor": 5
}