{
  "cells": [
    {
      "cell_type": "markdown",
      "metadata": {
        "id": "view-in-github",
        "colab_type": "text"
      },
      "source": [
        "<a href=\"https://colab.research.google.com/github/DavisReinhard/iris-analysis-group2/blob/main/iris_project.ipynb\" target=\"_parent\"><img src=\"https://colab.research.google.com/assets/colab-badge.svg\" alt=\"Open In Colab\"/></a>"
      ]
    },
    {
      "cell_type": "code",
      "execution_count": null,
      "id": "97644f01-e772-4389-9a04-18cf074d9e51",
      "metadata": {
        "colab": {
          "base_uri": "https://localhost:8080/"
        },
        "id": "97644f01-e772-4389-9a04-18cf074d9e51",
        "outputId": "c88d18f5-669b-41b3-d9ea-555d667b4df6"
      },
      "outputs": [
        {
          "output_type": "stream",
          "name": "stdout",
          "text": [
            "Hello Iris From Davis!\n"
          ]
        }
      ],
      "source": [
        "print(\"Hello Iris From Davis!\")"
      ]
    },
    {
      "cell_type": "code",
      "execution_count": null,
      "id": "fa24fc29-50fe-4975-90b6-fa3c69545d2d",
      "metadata": {
        "colab": {
          "base_uri": "https://localhost:8080/"
        },
        "id": "fa24fc29-50fe-4975-90b6-fa3c69545d2d",
        "outputId": "04c618ba-bec1-4124-aece-3321a0338bd3"
      },
      "outputs": [
        {
          "output_type": "stream",
          "name": "stdout",
          "text": [
            "Hello Iris From Mel!\n"
          ]
        }
      ],
      "source": [
        "print(\"Hello Iris From Mel!\")"
      ]
    },
    {
      "cell_type": "code",
      "source": [
        "print(\"Hello Iris From Chiapo!\")"
      ],
      "metadata": {
        "colab": {
          "base_uri": "https://localhost:8080/"
        },
        "id": "cpi_7F8Kat87",
        "outputId": "938ceb7e-0b5d-4441-f1dd-ffaef1ff4015"
      },
      "id": "cpi_7F8Kat87",
      "execution_count": null,
      "outputs": [
        {
          "output_type": "stream",
          "name": "stdout",
          "text": [
            "Hello Iris From Chiapo!\n"
          ]
        }
      ]
    },
    {
      "cell_type": "code",
      "source": [
        "n_rows = 150\n",
        "n_columns = 5\n",
        "dataset_name = \"Iris Group 2\"\n",
        "\n",
        "print(f\"{dataset_name} dataset: {n_rows} rows, {n_columns} columns\")"
      ],
      "metadata": {
        "id": "33j2VdJyOr_S",
        "outputId": "5616e30d-59cf-4c47-bfd5-4e4bb5402aad",
        "colab": {
          "base_uri": "https://localhost:8080/"
        }
      },
      "id": "33j2VdJyOr_S",
      "execution_count": 1,
      "outputs": [
        {
          "output_type": "stream",
          "name": "stdout",
          "text": [
            "Iris Group 2 dataset: 150 rows, 5 columns\n"
          ]
        }
      ]
    },
    {
      "cell_type": "code",
      "source": [
        "petal_width = 0.9\n",
        "\n",
        "if petal_width > 1.0:\n",
        "    print(\"Thick petal\")\n",
        "else:\n",
        "    print(\"Thin petal\")"
      ],
      "metadata": {
        "id": "Hh8MQ8psPpSU",
        "outputId": "88c642b4-1150-490b-afc7-f535c059f1cc",
        "colab": {
          "base_uri": "https://localhost:8080/"
        }
      },
      "id": "Hh8MQ8psPpSU",
      "execution_count": 2,
      "outputs": [
        {
          "output_type": "stream",
          "name": "stdout",
          "text": [
            "Thin petal\n"
          ]
        }
      ]
    },
    {
      "cell_type": "code",
      "source": [
        "species = [\"Setosa\", \"Versicolor\", \"Virginica\"]\n",
        "\n",
        "for flower in species:\n",
        "    print(f\"Species: {flower}\")"
      ],
      "metadata": {
        "id": "3Gh19XAxQHic",
        "outputId": "75d5489b-1e34-48a5-951a-7be1a4afd16e",
        "colab": {
          "base_uri": "https://localhost:8080/"
        }
      },
      "id": "3Gh19XAxQHic",
      "execution_count": 3,
      "outputs": [
        {
          "output_type": "stream",
          "name": "stdout",
          "text": [
            "Species: Setosa\n",
            "Species: Versicolor\n",
            "Species: Virginica\n"
          ]
        }
      ]
    },
    {
      "cell_type": "code",
      "source": [
        "def classify_flower(petal_width):\n",
        "    if petal_width < 0.8:\n",
        "        return \"narrow\"\n",
        "    elif petal_width < 1.5:\n",
        "        return \"medium\"\n",
        "    else:\n",
        "        return \"wide\"\n",
        "\n",
        "result = classify_flower(1.1)\n",
        "print(f\"The flower has a {result} petal width.\")"
      ],
      "metadata": {
        "id": "ygMQ5Bf2QNyT",
        "outputId": "880b08a9-e792-4289-b6ad-b733a359c2a3",
        "colab": {
          "base_uri": "https://localhost:8080/"
        }
      },
      "id": "ygMQ5Bf2QNyT",
      "execution_count": 4,
      "outputs": [
        {
          "output_type": "stream",
          "name": "stdout",
          "text": [
            "The flower has a medium petal width.\n"
          ]
        }
      ]
    }
  ],
  "metadata": {
    "kernelspec": {
      "display_name": "Python [conda env:base] *",
      "language": "python",
      "name": "conda-base-py"
    },
    "language_info": {
      "codemirror_mode": {
        "name": "ipython",
        "version": 3
      },
      "file_extension": ".py",
      "mimetype": "text/x-python",
      "name": "python",
      "nbconvert_exporter": "python",
      "pygments_lexer": "ipython3",
      "version": "3.13.5"
    },
    "colab": {
      "provenance": [],
      "include_colab_link": true
    }
  },
  "nbformat": 4,
  "nbformat_minor": 5
}