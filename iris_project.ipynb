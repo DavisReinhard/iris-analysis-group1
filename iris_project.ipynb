{
  "cells": [
    {
      "cell_type": "markdown",
      "metadata": {
        "id": "view-in-github",
        "colab_type": "text"
      },
      "source": [
        "<a href=\"https://colab.research.google.com/github/DavisReinhard/iris-analysis-group2/blob/main/iris_project.ipynb\" target=\"_parent\"><img src=\"https://colab.research.google.com/assets/colab-badge.svg\" alt=\"Open In Colab\"/></a>"
      ]
    },
    {
      "cell_type": "code",
      "execution_count": null,
      "id": "97644f01-e772-4389-9a04-18cf074d9e51",
      "metadata": {
        "colab": {
          "base_uri": "https://localhost:8080/"
        },
        "id": "97644f01-e772-4389-9a04-18cf074d9e51",
        "outputId": "c88d18f5-669b-41b3-d9ea-555d667b4df6"
      },
      "outputs": [
        {
          "output_type": "stream",
          "name": "stdout",
          "text": [
            "Hello Iris From Davis!\n"
          ]
        }
      ],
      "source": [
        "print(\"Hello Iris From Davis!\")"
      ]
    },
    {
      "cell_type": "code",
      "execution_count": null,
      "id": "fa24fc29-50fe-4975-90b6-fa3c69545d2d",
      "metadata": {
        "colab": {
          "base_uri": "https://localhost:8080/"
        },
        "id": "fa24fc29-50fe-4975-90b6-fa3c69545d2d",
        "outputId": "04c618ba-bec1-4124-aece-3321a0338bd3"
      },
      "outputs": [
        {
          "output_type": "stream",
          "name": "stdout",
          "text": [
            "Hello Iris From Mel!\n"
          ]
        }
      ],
      "source": [
        "print(\"Hello Iris From Mel!\")"
      ]
    },
    {
      "cell_type": "code",
      "source": [
        "print(\"Hello Iris From Chiapo!\")"
      ],
      "metadata": {
        "colab": {
          "base_uri": "https://localhost:8080/"
        },
        "id": "cpi_7F8Kat87",
        "outputId": "938ceb7e-0b5d-4441-f1dd-ffaef1ff4015"
      },
      "id": "cpi_7F8Kat87",
      "execution_count": null,
      "outputs": [
        {
          "output_type": "stream",
          "name": "stdout",
          "text": [
            "Hello Iris From Chiapo!\n"
          ]
        }
      ]
    },
    {
      "cell_type": "code",
      "source": [
        "# Phase 2\n",
        "# Making our variables for rows, columns and dataset name\n",
        "n_rows = 150 # rows in the dataset\n",
        "n_columns = 5 # columns in the dataset\n",
        "dataset_name = \"Iris Group 2\" # name of our dataset\n",
        "\n",
        "print(f\"{dataset_name} dataset: {n_rows} rows, {n_columns} columns\") # F-string for easy insertion of our variables into output statement"
      ],
      "metadata": {
        "colab": {
          "base_uri": "https://localhost:8080/"
        },
        "id": "33j2VdJyOr_S",
        "outputId": "e0ef646d-21f4-4e55-c38c-bc78c5ec7222"
      },
      "id": "33j2VdJyOr_S",
      "execution_count": null,
      "outputs": [
        {
          "output_type": "stream",
          "name": "stdout",
          "text": [
            "Iris Group 2 dataset: 150 rows, 5 columns\n"
          ]
        }
      ]
    },
    {
      "cell_type": "code",
      "source": [
        "# Creating a new variable for width of a petal\n",
        "petal_width = 0.9\n",
        "\n",
        "# Making a control structure for our output\n",
        "# Dividing the petal widths between \"thick\" and \"thin\" based on whether they are greater (>) than 1.0\n",
        "if petal_width > 1.0:\n",
        "    print(\"Thick petal\")\n",
        "else:\n",
        "    print(\"Thin petal\")  # Since petal width is not greater than 1.0, our statement prints \"Thin petal\""
      ],
      "metadata": {
        "colab": {
          "base_uri": "https://localhost:8080/"
        },
        "id": "Hh8MQ8psPpSU",
        "outputId": "c38415fd-f4dc-4ac3-e6f5-5fa71155bf6a"
      },
      "id": "Hh8MQ8psPpSU",
      "execution_count": null,
      "outputs": [
        {
          "output_type": "stream",
          "name": "stdout",
          "text": [
            "Thin petal\n"
          ]
        }
      ]
    },
    {
      "cell_type": "code",
      "source": [
        "# Creating a list inside of our species variable\n",
        "species = [\"Setosa\", \"Versicolor\", \"Virginica\"]\n",
        "\n",
        "for flower in species: # For each value (each string that classifies the species) in our species variable...\n",
        "    print(f\"Species: {flower}\") # Print \"Species:\" then each flower line-by-line"
      ],
      "metadata": {
        "colab": {
          "base_uri": "https://localhost:8080/"
        },
        "id": "3Gh19XAxQHic",
        "outputId": "75d5489b-1e34-48a5-951a-7be1a4afd16e"
      },
      "id": "3Gh19XAxQHic",
      "execution_count": null,
      "outputs": [
        {
          "output_type": "stream",
          "name": "stdout",
          "text": [
            "Species: Setosa\n",
            "Species: Versicolor\n",
            "Species: Virginica\n"
          ]
        }
      ]
    },
    {
      "cell_type": "code",
      "source": [
        "# Creating a function called classify_flower\n",
        "# We use our petal_width variable as our parameter\n",
        "def classify_flower(petal_width):\n",
        "    if petal_width < 0.8: # This function holds a control structure within it, similar to before\n",
        "        return \"narrow\"\n",
        "    elif petal_width < 1.5:\n",
        "        return \"medium\"\n",
        "    else: # We use an else statement to capture values that fall out of the \"narrow\" and \"medium\" range\n",
        "        return \"wide\"\n",
        "\n",
        "# Now, we can assign different values to our parameter\n",
        "# Then, our function will run through the control structure with whatever we place inside\n",
        "result = classify_flower(1.1) # Assigning our function with the parameter 1.1 to the variable called result\n",
        "print(f\"The flower has a {result} petal width.\") # Printing our F-string including the result variable"
      ],
      "metadata": {
        "colab": {
          "base_uri": "https://localhost:8080/"
        },
        "id": "ygMQ5Bf2QNyT",
        "outputId": "6b1f78bc-037d-48f0-8ff4-7ecc9c9647d9"
      },
      "id": "ygMQ5Bf2QNyT",
      "execution_count": null,
      "outputs": [
        {
          "output_type": "stream",
          "name": "stdout",
          "text": [
            "The flower has a medium petal width.\n"
          ]
        }
      ]
    },
    {
      "cell_type": "code",
      "source": [
        "#BEGINNING OF PHASE 3"
      ],
      "metadata": {
        "id": "EhkJBsexJk3w"
      },
      "id": "EhkJBsexJk3w",
      "execution_count": null,
      "outputs": []
    },
    {
      "cell_type": "code",
      "source": [
        "from google.colab import files #Run this and select the file each time we go into Colab\n",
        "uploaded = files.upload()"
      ],
      "metadata": {
        "colab": {
          "base_uri": "https://localhost:8080/",
          "height": 73
        },
        "id": "85YcDDGk4QBg",
        "outputId": "9a12ba84-3627-4892-eca1-f029411b2eeb"
      },
      "id": "85YcDDGk4QBg",
      "execution_count": 1,
      "outputs": [
        {
          "output_type": "display_data",
          "data": {
            "text/plain": [
              "<IPython.core.display.HTML object>"
            ],
            "text/html": [
              "\n",
              "     <input type=\"file\" id=\"files-69f36c56-ca85-46f2-ab67-20796f495fbb\" name=\"files[]\" multiple disabled\n",
              "        style=\"border:none\" />\n",
              "     <output id=\"result-69f36c56-ca85-46f2-ab67-20796f495fbb\">\n",
              "      Upload widget is only available when the cell has been executed in the\n",
              "      current browser session. Please rerun this cell to enable.\n",
              "      </output>\n",
              "      <script>// Copyright 2017 Google LLC\n",
              "//\n",
              "// Licensed under the Apache License, Version 2.0 (the \"License\");\n",
              "// you may not use this file except in compliance with the License.\n",
              "// You may obtain a copy of the License at\n",
              "//\n",
              "//      http://www.apache.org/licenses/LICENSE-2.0\n",
              "//\n",
              "// Unless required by applicable law or agreed to in writing, software\n",
              "// distributed under the License is distributed on an \"AS IS\" BASIS,\n",
              "// WITHOUT WARRANTIES OR CONDITIONS OF ANY KIND, either express or implied.\n",
              "// See the License for the specific language governing permissions and\n",
              "// limitations under the License.\n",
              "\n",
              "/**\n",
              " * @fileoverview Helpers for google.colab Python module.\n",
              " */\n",
              "(function(scope) {\n",
              "function span(text, styleAttributes = {}) {\n",
              "  const element = document.createElement('span');\n",
              "  element.textContent = text;\n",
              "  for (const key of Object.keys(styleAttributes)) {\n",
              "    element.style[key] = styleAttributes[key];\n",
              "  }\n",
              "  return element;\n",
              "}\n",
              "\n",
              "// Max number of bytes which will be uploaded at a time.\n",
              "const MAX_PAYLOAD_SIZE = 100 * 1024;\n",
              "\n",
              "function _uploadFiles(inputId, outputId) {\n",
              "  const steps = uploadFilesStep(inputId, outputId);\n",
              "  const outputElement = document.getElementById(outputId);\n",
              "  // Cache steps on the outputElement to make it available for the next call\n",
              "  // to uploadFilesContinue from Python.\n",
              "  outputElement.steps = steps;\n",
              "\n",
              "  return _uploadFilesContinue(outputId);\n",
              "}\n",
              "\n",
              "// This is roughly an async generator (not supported in the browser yet),\n",
              "// where there are multiple asynchronous steps and the Python side is going\n",
              "// to poll for completion of each step.\n",
              "// This uses a Promise to block the python side on completion of each step,\n",
              "// then passes the result of the previous step as the input to the next step.\n",
              "function _uploadFilesContinue(outputId) {\n",
              "  const outputElement = document.getElementById(outputId);\n",
              "  const steps = outputElement.steps;\n",
              "\n",
              "  const next = steps.next(outputElement.lastPromiseValue);\n",
              "  return Promise.resolve(next.value.promise).then((value) => {\n",
              "    // Cache the last promise value to make it available to the next\n",
              "    // step of the generator.\n",
              "    outputElement.lastPromiseValue = value;\n",
              "    return next.value.response;\n",
              "  });\n",
              "}\n",
              "\n",
              "/**\n",
              " * Generator function which is called between each async step of the upload\n",
              " * process.\n",
              " * @param {string} inputId Element ID of the input file picker element.\n",
              " * @param {string} outputId Element ID of the output display.\n",
              " * @return {!Iterable<!Object>} Iterable of next steps.\n",
              " */\n",
              "function* uploadFilesStep(inputId, outputId) {\n",
              "  const inputElement = document.getElementById(inputId);\n",
              "  inputElement.disabled = false;\n",
              "\n",
              "  const outputElement = document.getElementById(outputId);\n",
              "  outputElement.innerHTML = '';\n",
              "\n",
              "  const pickedPromise = new Promise((resolve) => {\n",
              "    inputElement.addEventListener('change', (e) => {\n",
              "      resolve(e.target.files);\n",
              "    });\n",
              "  });\n",
              "\n",
              "  const cancel = document.createElement('button');\n",
              "  inputElement.parentElement.appendChild(cancel);\n",
              "  cancel.textContent = 'Cancel upload';\n",
              "  const cancelPromise = new Promise((resolve) => {\n",
              "    cancel.onclick = () => {\n",
              "      resolve(null);\n",
              "    };\n",
              "  });\n",
              "\n",
              "  // Wait for the user to pick the files.\n",
              "  const files = yield {\n",
              "    promise: Promise.race([pickedPromise, cancelPromise]),\n",
              "    response: {\n",
              "      action: 'starting',\n",
              "    }\n",
              "  };\n",
              "\n",
              "  cancel.remove();\n",
              "\n",
              "  // Disable the input element since further picks are not allowed.\n",
              "  inputElement.disabled = true;\n",
              "\n",
              "  if (!files) {\n",
              "    return {\n",
              "      response: {\n",
              "        action: 'complete',\n",
              "      }\n",
              "    };\n",
              "  }\n",
              "\n",
              "  for (const file of files) {\n",
              "    const li = document.createElement('li');\n",
              "    li.append(span(file.name, {fontWeight: 'bold'}));\n",
              "    li.append(span(\n",
              "        `(${file.type || 'n/a'}) - ${file.size} bytes, ` +\n",
              "        `last modified: ${\n",
              "            file.lastModifiedDate ? file.lastModifiedDate.toLocaleDateString() :\n",
              "                                    'n/a'} - `));\n",
              "    const percent = span('0% done');\n",
              "    li.appendChild(percent);\n",
              "\n",
              "    outputElement.appendChild(li);\n",
              "\n",
              "    const fileDataPromise = new Promise((resolve) => {\n",
              "      const reader = new FileReader();\n",
              "      reader.onload = (e) => {\n",
              "        resolve(e.target.result);\n",
              "      };\n",
              "      reader.readAsArrayBuffer(file);\n",
              "    });\n",
              "    // Wait for the data to be ready.\n",
              "    let fileData = yield {\n",
              "      promise: fileDataPromise,\n",
              "      response: {\n",
              "        action: 'continue',\n",
              "      }\n",
              "    };\n",
              "\n",
              "    // Use a chunked sending to avoid message size limits. See b/62115660.\n",
              "    let position = 0;\n",
              "    do {\n",
              "      const length = Math.min(fileData.byteLength - position, MAX_PAYLOAD_SIZE);\n",
              "      const chunk = new Uint8Array(fileData, position, length);\n",
              "      position += length;\n",
              "\n",
              "      const base64 = btoa(String.fromCharCode.apply(null, chunk));\n",
              "      yield {\n",
              "        response: {\n",
              "          action: 'append',\n",
              "          file: file.name,\n",
              "          data: base64,\n",
              "        },\n",
              "      };\n",
              "\n",
              "      let percentDone = fileData.byteLength === 0 ?\n",
              "          100 :\n",
              "          Math.round((position / fileData.byteLength) * 100);\n",
              "      percent.textContent = `${percentDone}% done`;\n",
              "\n",
              "    } while (position < fileData.byteLength);\n",
              "  }\n",
              "\n",
              "  // All done.\n",
              "  yield {\n",
              "    response: {\n",
              "      action: 'complete',\n",
              "    }\n",
              "  };\n",
              "}\n",
              "\n",
              "scope.google = scope.google || {};\n",
              "scope.google.colab = scope.google.colab || {};\n",
              "scope.google.colab._files = {\n",
              "  _uploadFiles,\n",
              "  _uploadFilesContinue,\n",
              "};\n",
              "})(self);\n",
              "</script> "
            ]
          },
          "metadata": {}
        },
        {
          "output_type": "stream",
          "name": "stdout",
          "text": [
            "Saving iris.zip to iris.zip\n"
          ]
        }
      ]
    },
    {
      "cell_type": "code",
      "source": [
        "!ls /content"
      ],
      "metadata": {
        "colab": {
          "base_uri": "https://localhost:8080/"
        },
        "id": "7wXrQ9N55Avk",
        "outputId": "0762f7bf-055a-414a-861f-9ad2e6064956"
      },
      "id": "7wXrQ9N55Avk",
      "execution_count": 2,
      "outputs": [
        {
          "output_type": "stream",
          "name": "stdout",
          "text": [
            "iris.zip  sample_data\n"
          ]
        }
      ]
    },
    {
      "cell_type": "code",
      "source": [
        "!unzip /content/iris.zip"
      ],
      "metadata": {
        "colab": {
          "base_uri": "https://localhost:8080/"
        },
        "id": "BhLv_OWF5IR7",
        "outputId": "ca51becc-c316-40cd-f279-52e18767a803"
      },
      "id": "BhLv_OWF5IR7",
      "execution_count": 3,
      "outputs": [
        {
          "output_type": "stream",
          "name": "stdout",
          "text": [
            "Archive:  /content/iris.zip\n",
            "  inflating: Index                   \n",
            "  inflating: bezdekIris.data         \n",
            "  inflating: iris.data               \n",
            "  inflating: iris.names              \n"
          ]
        }
      ]
    },
    {
      "cell_type": "code",
      "source": [
        "import csv #Import the csv module so we can read CSV (comma-separated) files\n",
        "\n",
        "with open(\"iris.data\", newline=\"\") as csvfile: #Open the iris dataset and read its rows\n",
        "    reader = csv.reader(csvfile)\n",
        "    rows = list(reader)\n",
        "\n",
        "print(\"Total rows:\", len(rows)) #Print total rows and first 5 rows to preview data (optional step but it lets us know the data is there without 150 rows)\n",
        "print(\"First 5 rows:\")\n",
        "for row in rows[:5]:\n",
        "    print(row)"
      ],
      "metadata": {
        "colab": {
          "base_uri": "https://localhost:8080/"
        },
        "id": "HAwLp3axJx4l",
        "outputId": "0410a479-b936-47c1-a9ce-8bf84b0afc5c"
      },
      "id": "HAwLp3axJx4l",
      "execution_count": 4,
      "outputs": [
        {
          "output_type": "stream",
          "name": "stdout",
          "text": [
            "Total rows: 151\n",
            "First 5 rows:\n",
            "['5.1', '3.5', '1.4', '0.2', 'Iris-setosa']\n",
            "['4.9', '3.0', '1.4', '0.2', 'Iris-setosa']\n",
            "['4.7', '3.2', '1.3', '0.2', 'Iris-setosa']\n",
            "['4.6', '3.1', '1.5', '0.2', 'Iris-setosa']\n",
            "['5.0', '3.6', '1.4', '0.2', 'Iris-setosa']\n"
          ]
        }
      ]
    },
    {
      "cell_type": "code",
      "source": [
        "with open(\"summary.txt\", \"w\") as f: #We're just creating a simple summary text file\n",
        "    f.write(\"Iris Dataset Summary\\n\")\n",
        "    f.write(\"--------------------\\n\")\n",
        "    f.write(f\"Total rows: {len(rows)}\\n\")"
      ],
      "metadata": {
        "id": "If1uQgV9Tm8e"
      },
      "id": "If1uQgV9Tm8e",
      "execution_count": 5,
      "outputs": []
    },
    {
      "cell_type": "code",
      "source": [
        "!cat summary.txt #lets us verify that this exists"
      ],
      "metadata": {
        "colab": {
          "base_uri": "https://localhost:8080/"
        },
        "id": "8xLUw5t6UNd3",
        "outputId": "800733e7-490f-404f-9f9a-aedb252bebb1"
      },
      "id": "8xLUw5t6UNd3",
      "execution_count": 6,
      "outputs": [
        {
          "output_type": "stream",
          "name": "stdout",
          "text": [
            "Iris Dataset Summary\n",
            "--------------------\n",
            "Total rows: 151\n"
          ]
        }
      ]
    },
    {
      "cell_type": "code",
      "source": [
        "#Get sepal length values (first number in each row)\n",
        "sepal_lengths = [float(row[0]) for row in rows if len(row) == 5]\n",
        "\n",
        "#Calculate min, max, and average for length of sepals\n",
        "min_length = min(sepal_lengths)\n",
        "max_length = max(sepal_lengths)\n",
        "avg_length = sum(sepal_lengths) / len(sepal_lengths)\n",
        "\n",
        "#Write results to summary.txt\n",
        "with open(\"summary.txt\", \"a\") as f:  #\"a\" means append to the file instead of overwriting\n",
        "    f.write(f\"Min sepal length: {min_length}\\n\")\n",
        "    f.write(f\"Max sepal length: {max_length}\\n\")\n",
        "    f.write(f\"Avg sepal length: {avg_length:.2f}\\n\")"
      ],
      "metadata": {
        "id": "mZREDLB4W1kS"
      },
      "id": "mZREDLB4W1kS",
      "execution_count": 7,
      "outputs": []
    },
    {
      "cell_type": "code",
      "source": [
        "!cat summary.txt"
      ],
      "metadata": {
        "id": "p_mBOqsoX_kS",
        "outputId": "dcd7659e-861f-4273-d3e3-79934827abaf",
        "colab": {
          "base_uri": "https://localhost:8080/"
        }
      },
      "id": "p_mBOqsoX_kS",
      "execution_count": 8,
      "outputs": [
        {
          "output_type": "stream",
          "name": "stdout",
          "text": [
            "Iris Dataset Summary\n",
            "--------------------\n",
            "Total rows: 151\n",
            "Min sepal length: 4.3\n",
            "Max sepal length: 7.9\n",
            "Avg sepal length: 5.84\n"
          ]
        }
      ]
    },
    {
      "cell_type": "code",
      "source": [
        "sepal_widths = [float(row[1]) for row in rows if len(row) == 5]\n",
        "min_width = min(sepal_widths)\n",
        "max_width = max(sepal_widths)\n",
        "avg_width = sum(sepal_widths) / len(sepal_widths)\n",
        "\n",
        "with open(\"summary.txt\", \"a\") as f:\n",
        "    f.write(f\"Min sepal width: {min_width}\\n\")\n",
        "    f.write(f\"Max sepal width: {max_width}\\n\")\n",
        "    f.write(f\"Avg sepal width: {avg_width:.2f}\\n\")"
      ],
      "metadata": {
        "id": "naWL89CiYTt4"
      },
      "id": "naWL89CiYTt4",
      "execution_count": 9,
      "outputs": []
    },
    {
      "cell_type": "code",
      "source": [
        "!cat summary.txt"
      ],
      "metadata": {
        "id": "iM9clLXqYV3X",
        "outputId": "2fd4ae15-e1a2-4027-f9c6-6d90730c6975",
        "colab": {
          "base_uri": "https://localhost:8080/"
        }
      },
      "id": "iM9clLXqYV3X",
      "execution_count": 10,
      "outputs": [
        {
          "output_type": "stream",
          "name": "stdout",
          "text": [
            "Iris Dataset Summary\n",
            "--------------------\n",
            "Total rows: 151\n",
            "Min sepal length: 4.3\n",
            "Max sepal length: 7.9\n",
            "Avg sepal length: 5.84\n",
            "Min sepal width: 2.0\n",
            "Max sepal width: 4.4\n",
            "Avg sepal width: 3.05\n"
          ]
        }
      ]
    },
    {
      "cell_type": "code",
      "source": [
        "petal_lengths = [float(row[2]) for row in rows if len(row) == 5]\n",
        "min_petal_length = min(petal_lengths)\n",
        "max_petal_length = max(petal_lengths)\n",
        "avg_petal_length = sum(petal_lengths) / len(petal_lengths)\n",
        "\n",
        "with open(\"summary.txt\", \"a\") as f:\n",
        "    f.write(f\"Min petal length: {min_petal_length}\\n\")\n",
        "    f.write(f\"Max petal length: {max_petal_length}\\n\")\n",
        "    f.write(f\"Avg petal length: {avg_petal_length:.2f}\\n\")"
      ],
      "metadata": {
        "id": "WUVROzKXYz7A"
      },
      "id": "WUVROzKXYz7A",
      "execution_count": 11,
      "outputs": []
    },
    {
      "cell_type": "code",
      "source": [
        "!cat summary.txt"
      ],
      "metadata": {
        "id": "OBwjBXShY11g",
        "outputId": "0286c12c-4fda-4fa3-fee1-398e0360094c",
        "colab": {
          "base_uri": "https://localhost:8080/"
        }
      },
      "id": "OBwjBXShY11g",
      "execution_count": 12,
      "outputs": [
        {
          "output_type": "stream",
          "name": "stdout",
          "text": [
            "Iris Dataset Summary\n",
            "--------------------\n",
            "Total rows: 151\n",
            "Min sepal length: 4.3\n",
            "Max sepal length: 7.9\n",
            "Avg sepal length: 5.84\n",
            "Min sepal width: 2.0\n",
            "Max sepal width: 4.4\n",
            "Avg sepal width: 3.05\n",
            "Min petal length: 1.0\n",
            "Max petal length: 6.9\n",
            "Avg petal length: 3.76\n"
          ]
        }
      ]
    },
    {
      "cell_type": "code",
      "source": [
        "petal_widths = [float(row[3]) for row in rows if len(row) == 5]\n",
        "min_petal_width = min(petal_widths)\n",
        "max_petal_width = max(petal_widths)\n",
        "avg_petal_width = sum(petal_widths) / len(petal_widths)\n",
        "\n",
        "with open(\"summary.txt\", \"a\") as f:\n",
        "    f.write(f\"Min petal width: {min_petal_width}\\n\")\n",
        "    f.write(f\"Max petal width: {max_petal_width}\\n\")\n",
        "    f.write(f\"Avg petal width: {avg_petal_width:.2f}\\n\")"
      ],
      "metadata": {
        "id": "jxJG4ve2Y5qa"
      },
      "id": "jxJG4ve2Y5qa",
      "execution_count": 13,
      "outputs": []
    },
    {
      "cell_type": "code",
      "source": [
        "!cat summary.txt"
      ],
      "metadata": {
        "id": "PwLgghnNY8I_",
        "outputId": "5b72581d-fa81-4325-92c8-0e92c21ae1f0",
        "colab": {
          "base_uri": "https://localhost:8080/"
        }
      },
      "id": "PwLgghnNY8I_",
      "execution_count": 14,
      "outputs": [
        {
          "output_type": "stream",
          "name": "stdout",
          "text": [
            "Iris Dataset Summary\n",
            "--------------------\n",
            "Total rows: 151\n",
            "Min sepal length: 4.3\n",
            "Max sepal length: 7.9\n",
            "Avg sepal length: 5.84\n",
            "Min sepal width: 2.0\n",
            "Max sepal width: 4.4\n",
            "Avg sepal width: 3.05\n",
            "Min petal length: 1.0\n",
            "Max petal length: 6.9\n",
            "Avg petal length: 3.76\n",
            "Min petal width: 0.1\n",
            "Max petal width: 2.5\n",
            "Avg petal width: 1.20\n"
          ]
        }
      ]
    }
  ],
  "metadata": {
    "kernelspec": {
      "display_name": "Python [conda env:base] *",
      "language": "python",
      "name": "conda-base-py"
    },
    "language_info": {
      "codemirror_mode": {
        "name": "ipython",
        "version": 3
      },
      "file_extension": ".py",
      "mimetype": "text/x-python",
      "name": "python",
      "nbconvert_exporter": "python",
      "pygments_lexer": "ipython3",
      "version": "3.13.5"
    },
    "colab": {
      "provenance": [],
      "include_colab_link": true
    }
  },
  "nbformat": 4,
  "nbformat_minor": 5
}