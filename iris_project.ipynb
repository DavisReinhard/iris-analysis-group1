{
  "cells": [
    {
      "cell_type": "markdown",
      "metadata": {
        "id": "view-in-github",
        "colab_type": "text"
      },
      "source": [
        "<a href=\"https://colab.research.google.com/github/DavisReinhard/iris-analysis-group1/blob/main/iris_project.ipynb\" target=\"_parent\"><img src=\"https://colab.research.google.com/assets/colab-badge.svg\" alt=\"Open In Colab\"/></a>"
      ]
    },
    {
      "cell_type": "code",
      "execution_count": null,
      "id": "97644f01-e772-4389-9a04-18cf074d9e51",
      "metadata": {
        "colab": {
          "base_uri": "https://localhost:8080/"
        },
        "id": "97644f01-e772-4389-9a04-18cf074d9e51",
        "outputId": "c88d18f5-669b-41b3-d9ea-555d667b4df6"
      },
      "outputs": [
        {
          "output_type": "stream",
          "name": "stdout",
          "text": [
            "Hello Iris From Davis!\n"
          ]
        }
      ],
      "source": [
        "print(\"Hello Iris From Davis!\")"
      ]
    },
    {
      "cell_type": "code",
      "execution_count": null,
      "id": "fa24fc29-50fe-4975-90b6-fa3c69545d2d",
      "metadata": {
        "colab": {
          "base_uri": "https://localhost:8080/"
        },
        "id": "fa24fc29-50fe-4975-90b6-fa3c69545d2d",
        "outputId": "04c618ba-bec1-4124-aece-3321a0338bd3"
      },
      "outputs": [
        {
          "output_type": "stream",
          "name": "stdout",
          "text": [
            "Hello Iris From Mel!\n"
          ]
        }
      ],
      "source": [
        "print(\"Hello Iris From Mel!\")"
      ]
    }
  ],
  "metadata": {
    "kernelspec": {
      "display_name": "Python [conda env:base] *",
      "language": "python",
      "name": "conda-base-py"
    },
    "language_info": {
      "codemirror_mode": {
        "name": "ipython",
        "version": 3
      },
      "file_extension": ".py",
      "mimetype": "text/x-python",
      "name": "python",
      "nbconvert_exporter": "python",
      "pygments_lexer": "ipython3",
      "version": "3.13.5"
    },
    "colab": {
      "provenance": [],
      "include_colab_link": true
    }
  },
  "nbformat": 4,
  "nbformat_minor": 5
}