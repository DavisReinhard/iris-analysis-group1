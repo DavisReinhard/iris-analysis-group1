{
  "cells": [
    {
      "cell_type": "markdown",
      "metadata": {
        "id": "view-in-github",
        "colab_type": "text"
      },
      "source": [
        "<a href=\"https://colab.research.google.com/github/DavisReinhard/iris-analysis-group2/blob/main/iris_project.ipynb\" target=\"_parent\"><img src=\"https://colab.research.google.com/assets/colab-badge.svg\" alt=\"Open In Colab\"/></a>"
      ]
    },
    {
      "cell_type": "code",
      "execution_count": null,
      "id": "97644f01-e772-4389-9a04-18cf074d9e51",
      "metadata": {
        "colab": {
          "base_uri": "https://localhost:8080/"
        },
        "id": "97644f01-e772-4389-9a04-18cf074d9e51",
        "outputId": "c88d18f5-669b-41b3-d9ea-555d667b4df6"
      },
      "outputs": [
        {
          "output_type": "stream",
          "name": "stdout",
          "text": [
            "Hello Iris From Davis!\n"
          ]
        }
      ],
      "source": [
        "print(\"Hello Iris From Davis!\")"
      ]
    },
    {
      "cell_type": "code",
      "execution_count": null,
      "id": "fa24fc29-50fe-4975-90b6-fa3c69545d2d",
      "metadata": {
        "colab": {
          "base_uri": "https://localhost:8080/"
        },
        "id": "fa24fc29-50fe-4975-90b6-fa3c69545d2d",
        "outputId": "04c618ba-bec1-4124-aece-3321a0338bd3"
      },
      "outputs": [
        {
          "output_type": "stream",
          "name": "stdout",
          "text": [
            "Hello Iris From Mel!\n"
          ]
        }
      ],
      "source": [
        "print(\"Hello Iris From Mel!\")"
      ]
    },
    {
      "cell_type": "code",
      "source": [
        "print(\"Hello Iris From Chiapo!\")"
      ],
      "metadata": {
        "colab": {
          "base_uri": "https://localhost:8080/"
        },
        "id": "cpi_7F8Kat87",
        "outputId": "938ceb7e-0b5d-4441-f1dd-ffaef1ff4015"
      },
      "id": "cpi_7F8Kat87",
      "execution_count": null,
      "outputs": [
        {
          "output_type": "stream",
          "name": "stdout",
          "text": [
            "Hello Iris From Chiapo!\n"
          ]
        }
      ]
    },
    {
      "cell_type": "code",
      "source": [
        "# Phase 2\n",
        "# Making our variables for rows, columns and dataset name\n",
        "n_rows = 150 # rows in the dataset\n",
        "n_columns = 5 # columns in the dataset\n",
        "dataset_name = \"Iris Group 2\" # name of our dataset\n",
        "\n",
        "print(f\"{dataset_name} dataset: {n_rows} rows, {n_columns} columns\") # F-string for easy insertion of our variables into output statement"
      ],
      "metadata": {
        "colab": {
          "base_uri": "https://localhost:8080/"
        },
        "id": "33j2VdJyOr_S",
        "outputId": "e0ef646d-21f4-4e55-c38c-bc78c5ec7222"
      },
      "id": "33j2VdJyOr_S",
      "execution_count": null,
      "outputs": [
        {
          "output_type": "stream",
          "name": "stdout",
          "text": [
            "Iris Group 2 dataset: 150 rows, 5 columns\n"
          ]
        }
      ]
    },
    {
      "cell_type": "code",
      "source": [
        "# Creating a new variable for width of a petal\n",
        "petal_width = 0.9\n",
        "\n",
        "# Making a control structure for our output\n",
        "# Dividing the petal widths between \"thick\" and \"thin\" based on whether they are greater (>) than 1.0\n",
        "if petal_width > 1.0:\n",
        "    print(\"Thick petal\")\n",
        "else:\n",
        "    print(\"Thin petal\")  # Since petal width is not greater than 1.0, our statement prints \"Thin petal\""
      ],
      "metadata": {
        "colab": {
          "base_uri": "https://localhost:8080/"
        },
        "id": "Hh8MQ8psPpSU",
        "outputId": "c38415fd-f4dc-4ac3-e6f5-5fa71155bf6a"
      },
      "id": "Hh8MQ8psPpSU",
      "execution_count": null,
      "outputs": [
        {
          "output_type": "stream",
          "name": "stdout",
          "text": [
            "Thin petal\n"
          ]
        }
      ]
    },
    {
      "cell_type": "code",
      "source": [
        "# Creating a list inside of our species variable\n",
        "species = [\"Setosa\", \"Versicolor\", \"Virginica\"]\n",
        "\n",
        "for flower in species: # For each value (each string that classifies the species) in our species variable...\n",
        "    print(f\"Species: {flower}\") # Print \"Species:\" then each flower line-by-line"
      ],
      "metadata": {
        "colab": {
          "base_uri": "https://localhost:8080/"
        },
        "id": "3Gh19XAxQHic",
        "outputId": "75d5489b-1e34-48a5-951a-7be1a4afd16e"
      },
      "id": "3Gh19XAxQHic",
      "execution_count": null,
      "outputs": [
        {
          "output_type": "stream",
          "name": "stdout",
          "text": [
            "Species: Setosa\n",
            "Species: Versicolor\n",
            "Species: Virginica\n"
          ]
        }
      ]
    },
    {
      "cell_type": "code",
      "source": [
        "# Creating a function called classify_flower\n",
        "# We use our petal_width variable as our parameter\n",
        "def classify_flower(petal_width):\n",
        "    if petal_width < 0.8: # This function holds a control structure within it, similar to before\n",
        "        return \"narrow\"\n",
        "    elif petal_width < 1.5:\n",
        "        return \"medium\"\n",
        "    else: # We use an else statement to capture values that fall out of the \"narrow\" and \"medium\" range\n",
        "        return \"wide\"\n",
        "\n",
        "# Now, we can assign different values to our parameter\n",
        "# Then, our function will run through the control structure with whatever we place inside\n",
        "result = classify_flower(1.1) # Assigning our function with the parameter 1.1 to the variable called result\n",
        "print(f\"The flower has a {result} petal width.\") # Printing our F-string including the result variable"
      ],
      "metadata": {
        "colab": {
          "base_uri": "https://localhost:8080/"
        },
        "id": "ygMQ5Bf2QNyT",
        "outputId": "6b1f78bc-037d-48f0-8ff4-7ecc9c9647d9"
      },
      "id": "ygMQ5Bf2QNyT",
      "execution_count": null,
      "outputs": [
        {
          "output_type": "stream",
          "name": "stdout",
          "text": [
            "The flower has a medium petal width.\n"
          ]
        }
      ]
    }
  ],
  "metadata": {
    "kernelspec": {
      "display_name": "Python [conda env:base] *",
      "language": "python",
      "name": "conda-base-py"
    },
    "language_info": {
      "codemirror_mode": {
        "name": "ipython",
        "version": 3
      },
      "file_extension": ".py",
      "mimetype": "text/x-python",
      "name": "python",
      "nbconvert_exporter": "python",
      "pygments_lexer": "ipython3",
      "version": "3.13.5"
    },
    "colab": {
      "provenance": [],
      "include_colab_link": true
    }
  },
  "nbformat": 4,
  "nbformat_minor": 5
}